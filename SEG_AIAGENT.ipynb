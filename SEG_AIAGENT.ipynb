{
 "cells": [
  {
   "cell_type": "code",
   "execution_count": 1,
   "metadata": {},
   "outputs": [
    {
     "name": "stderr",
     "output_type": "stream",
     "text": [
      "c:\\Users\\Dell\\AppData\\Local\\Programs\\Python\\Python311\\Lib\\site-packages\\tqdm\\auto.py:21: TqdmWarning: IProgress not found. Please update jupyter and ipywidgets. See https://ipywidgets.readthedocs.io/en/stable/user_install.html\n",
      "  from .autonotebook import tqdm as notebook_tqdm\n"
     ]
    }
   ],
   "source": [
    "from transformers import SamModel, SamProcessor\n",
    "from PIL import Image\n",
    "import requests\n",
    "import matplotlib.pyplot as plt\n",
    "import numpy as np\n",
    "\n",
    "# Load the processor and model from Hugging Face\n",
    "model_id = \"facebook/sam-vit-large\"\n",
    "processor = SamProcessor.from_pretrained(model_id)\n",
    "model = SamModel.from_pretrained(model_id)\n",
    "\n",
    "def load_image(url):\n",
    "    \"\"\"Load an image from a URL.\"\"\"\n",
    "    return Image.open(requests.get(url, stream=True).raw).convert(\"RGB\")\n"
   ]
  },
  {
   "cell_type": "code",
   "execution_count": null,
   "metadata": {},
   "outputs": [],
   "source": [
    "from transformers import SamModel, SamProcessor\n",
    "from PIL import Image\n",
    "import requests\n",
    "\n",
    "# Load model and processor\n",
    "model_id = \"facebook/sam-vit-large\"\n",
    "processor = SamProcessor.from_pretrained(model_id)\n",
    "model = SamModel.from_pretrained(model_id)\n"
   ]
  },
  {
   "cell_type": "code",
   "execution_count": null,
   "metadata": {},
   "outputs": [],
   "source": [
    "def load_image(source):\n",
    "    if source.startswith(\"http://\") or source.startswith(\"https://\"):\n",
    "        response = requests.get(source, stream=True)\n",
    "        return Image.open(response.raw).convert(\"RGB\")\n",
    "    else:\n",
    "        return Image.open(source).convert(\"RGB\")\n"
   ]
  }
 ],
 "metadata": {
  "kernelspec": {
   "display_name": "Python 3",
   "language": "python",
   "name": "python3"
  },
  "language_info": {
   "codemirror_mode": {
    "name": "ipython",
    "version": 3
   },
   "file_extension": ".py",
   "mimetype": "text/x-python",
   "name": "python",
   "nbconvert_exporter": "python",
   "pygments_lexer": "ipython3",
   "version": "3.11.2"
  }
 },
 "nbformat": 4,
 "nbformat_minor": 2
}
